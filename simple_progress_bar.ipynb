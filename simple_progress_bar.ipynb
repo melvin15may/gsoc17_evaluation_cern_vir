{
 "cells": [
  {
   "cell_type": "code",
   "execution_count": 1,
   "metadata": {
    "collapsed": true,
    "deletable": true,
    "editable": true
   },
   "outputs": [],
   "source": [
    "from pyspark import SparkContext, SparkConf"
   ]
  },
  {
   "cell_type": "code",
   "execution_count": 2,
   "metadata": {
    "collapsed": false,
    "deletable": true,
    "editable": true
   },
   "outputs": [],
   "source": [
    "\n",
    "#spark conf\n",
    "conf = ( SparkConf()\n",
    "         .setMaster(\"local[*]\")\n",
    "         .setAppName('pyspark')\n",
    "        )\n",
    "\n",
    "sc = SparkContext(conf=conf)"
   ]
  },
  {
   "cell_type": "code",
   "execution_count": 31,
   "metadata": {
    "collapsed": false,
    "deletable": true,
    "editable": true
   },
   "outputs": [],
   "source": [
    "from IPython.core.display import display\n",
    "import urllib, json\n",
    "from ipywidgets import FloatProgress,HTML,HBox\n",
    "from IPython.lib import backgroundjobs\n",
    "\n",
    "#Create progress bar\n",
    "def create_html():\n",
    "    data = [0]\n",
    "    jobs = {}\n",
    "    #initialize float progress bar widget\n",
    "    f = FloatProgress(min=0, max=100)\n",
    "    #initialize html widget\n",
    "    l = HTML()\n",
    "    #initialize horizontal box with 2 elements\n",
    "    box = HBox(children=[f, l])\n",
    "    display(box)\n",
    "    \n",
    "    while not jobs:\n",
    "        while len(data)>0:\n",
    "            #get details of running jobs\n",
    "            url = \"http://localhost:4040/api/v1/applications/\"+ str(sc.applicationId) +\"/jobs?status=running\"\n",
    "            response = urllib.urlopen(url)\n",
    "            data = json.loads(response.read())\n",
    "            for i in data:\n",
    "                #storing task details for each jobs separately\n",
    "                jobs[i['jobId']] = {\n",
    "                    'active_task': i[\"numActiveTasks\"],\n",
    "                    'completed_task': i[\"numCompletedTasks\"],\n",
    "                    'failed_task': i[\"numFailedTasks\"],\n",
    "                    'total_task': i[\"numTasks\"]\n",
    "                }\n",
    "                #updating content of html\n",
    "                l.value = \"{} Tasks Completed\".format(str(jobs[i['jobId']]['completed_task']),str(jobs[i['jobId']]['total_task']))\n",
    "                value = float(jobs[i['jobId']]['completed_task'])*100.0/float(jobs[i['jobId']]['total_task'])\n",
    "                #updating value of progress bar\n",
    "                f.value = value\n",
    "                #print jobs\n",
    "        #get all completed jobs\n",
    "        url = \"http://localhost:4040/api/v1/applications/\"+ str(sc.applicationId) +\"/jobs?status=succeeded\"\n",
    "        response = urllib.urlopen(url)\n",
    "        data = json.loads(response.read())\n",
    "\n",
    "        for i in data:\n",
    "            #Store completion details of only jobs which was running\n",
    "            if i['jobId'] in jobs:\n",
    "                jobs[i['jobId']] = {\n",
    "                    'active_task': i[\"numActiveTasks\"],\n",
    "                    'completed_task': i[\"numCompletedTasks\"],\n",
    "                    'failed_task': i[\"numFailedTasks\"],\n",
    "                    'total_task': i[\"numTasks\"]\n",
    "                }\n",
    "                l.value = \"{} Tasks Completed\".format(str(jobs[i['jobId']]['completed_task']))\n",
    "                f.bar_style= 'success'\n",
    "                f.value = float(jobs[i['jobId']]['completed_task'])*100.0/float(jobs[i['jobId']]['total_task'])\n",
    "    return\n",
    "    "
   ]
  },
  {
   "cell_type": "code",
   "execution_count": 32,
   "metadata": {
    "collapsed": false,
    "deletable": true,
    "editable": true
   },
   "outputs": [],
   "source": [
    "def cal(l):\n",
    "    def call():\n",
    "        ss = sc.parallelize(l,4)\n",
    "        print \"Sum {}\".format(ss.reduce(lambda x,y: x+y))\n",
    "    #Using ipython module to run tasks in threads\n",
    "    jobs = backgroundjobs.BackgroundJobManager()\n",
    "    #Starting calculation task\n",
    "    jobs.new(call)\n",
    "    #Starting monitoring task\n",
    "    jobs.new(create_html)\n",
    "    return "
   ]
  },
  {
   "cell_type": "code",
   "execution_count": 33,
   "metadata": {
    "collapsed": false,
    "deletable": true,
    "editable": true
   },
   "outputs": [
    {
     "name": "stdout",
     "output_type": "stream",
     "text": [
      "Starting job # 0 in a separate thread.\n",
      "Starting job # 2 in a separate thread.\n"
     ]
    },
    {
     "data": {
      "application/vnd.jupyter.widget-view+json": {
       "model_id": "6116904a2b0f436aa12b36a994dc9e16"
      }
     },
     "metadata": {},
     "output_type": "display_data"
    },
    {
     "name": "stdout",
     "output_type": "stream",
     "text": [
      "Sum 199999990000000\n"
     ]
    }
   ],
   "source": [
    "cal(range(1,20000000))"
   ]
  },
  {
   "cell_type": "code",
   "execution_count": null,
   "metadata": {
    "collapsed": true,
    "deletable": true,
    "editable": true
   },
   "outputs": [],
   "source": []
  }
 ],
 "metadata": {
  "kernelspec": {
   "display_name": "Python 2",
   "language": "python",
   "name": "python2"
  },
  "language_info": {
   "codemirror_mode": {
    "name": "ipython",
    "version": 2
   },
   "file_extension": ".py",
   "mimetype": "text/x-python",
   "name": "python",
   "nbconvert_exporter": "python",
   "pygments_lexer": "ipython2",
   "version": "2.7.12"
  }
 },
 "nbformat": 4,
 "nbformat_minor": 2
}