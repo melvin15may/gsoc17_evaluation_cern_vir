{
 "cells": [
  {
   "cell_type": "code",
   "execution_count": 1,
   "metadata": {
    "collapsed": true,
    "deletable": true,
    "editable": true
   },
   "outputs": [],
   "source": [
    "from pyspark import SparkContext, SparkConf"
   ]
  },
  {
   "cell_type": "code",
   "execution_count": 2,
   "metadata": {
    "collapsed": false,
    "deletable": true,
    "editable": true
   },
   "outputs": [],
   "source": [
    "\n",
    "#spark conf\n",
    "conf = ( SparkConf()\n",
    "         .setMaster(\"local[*]\")\n",
    "         .setAppName('pyspark')\n",
    "        )\n",
    "\n",
    "sc = SparkContext(conf=conf)"
   ]
  },
  {
   "cell_type": "code",
   "execution_count": 20,
   "metadata": {
    "collapsed": false,
    "deletable": true,
    "editable": true
   },
   "outputs": [],
   "source": [
    "from IPython.core.display import display\n",
    "import urllib, json\n",
    "from ipywidgets import FloatProgress,HTML,HBox,VBox\n",
    "from IPython.lib import backgroundjobs\n",
    "\n",
    "#Create progress bar\n",
    "def create_html():\n",
    "    data = [0]\n",
    "    jobs = {}\n",
    "    #initialize float progress bar widget\n",
    "    f = FloatProgress(min=0, max=100)\n",
    "    #initialize html widget\n",
    "    l = HTML()\n",
    "    #initialize horizontal box with 2 elements\n",
    "    box = HBox(children=[f, l])\n",
    "    stageBox =VBox(children=[])\n",
    "    display(box)\n",
    "    \n",
    "    stage_html = HTML(value=\"\")\n",
    "    stage_url = \"http://localhost:4040/api/v1/applications/\"+ str(sc.applicationId) +\"/stages/\"\n",
    "    \n",
    "    #Get more details about the stages in a job and the tasks\n",
    "    def stage_task(jobId):\n",
    "        stage_children = []\n",
    "        for s in i['stageIds']:\n",
    "            response = urllib.urlopen(stage_url + str(s))\n",
    "            stage_data = json.loads(response.read())[0]\n",
    "            value = \"<hr><h3> Stage ID: {} <small><strong>{}</strong></small></h3><p>Run time: {} ms</p><p>CPU time: {} ms</p>\".format(\n",
    "                s,\n",
    "                stage_data[\"status\"],\n",
    "                stage_data[\"executorRunTime\"],\n",
    "                stage_data[\"executorCpuTime\"]\n",
    "            )\n",
    "            task_box_children = []\n",
    "            for t in stage_data['tasks']:\n",
    "                task_box_children.append(\n",
    "                    HTML(\n",
    "                        value=\"<h4>Task ID {} <small>{}</small></h4><p>Deserialize Time: {} ms</p><p>Deserialize CPU Time: {} ms</p><p>Run Time: {} ms</p><p>CPU Time : {} ms</p>\".format(\n",
    "                            t,\n",
    "                            \"COMPLETE\" if (stage_data['tasks'][t]['taskMetrics']['executorRunTime'] > 0) else \"RUNNING\",\n",
    "                            stage_data['tasks'][t]['taskMetrics']['executorDeserializeTime'],\n",
    "                            stage_data['tasks'][t]['taskMetrics']['executorDeserializeCpuTime'],\n",
    "                            stage_data['tasks'][t]['taskMetrics']['executorRunTime'],\n",
    "                            stage_data['tasks'][t]['taskMetrics']['executorCpuTime']\n",
    "                        )\n",
    "                    )\n",
    "                )\n",
    "            stage_children+=[HTML(value=value),HBox(children=task_box_children)]\n",
    "        stageBox.children= stage_children\n",
    "    display(stageBox)   \n",
    "    \n",
    "        \n",
    "    while not jobs:\n",
    "        while len(data)>0:\n",
    "            #get details of running jobs\n",
    "            url = \"http://localhost:4040/api/v1/applications/\"+ str(sc.applicationId) +\"/jobs?status=running\"\n",
    "            response = urllib.urlopen(url)\n",
    "            data = json.loads(response.read())\n",
    "            for i in data:\n",
    "                #storing task details for each jobs separately\n",
    "                jobs[i['jobId']] = {\n",
    "                    'active_task': i[\"numActiveTasks\"],\n",
    "                    'completed_task': i[\"numCompletedTasks\"],\n",
    "                    'failed_task': i[\"numFailedTasks\"],\n",
    "                    'total_task': i[\"numTasks\"]\n",
    "                }\n",
    "                #updating content of html\n",
    "                l.value = \"{} Tasks Completed\".format(str(jobs[i['jobId']]['completed_task']),str(jobs[i['jobId']]['total_task']))\n",
    "                value = float(jobs[i['jobId']]['completed_task'])*100.0/float(jobs[i['jobId']]['total_task'])\n",
    "                #updating value of progress bar\n",
    "                f.value = value\n",
    "                stage_task(i['jobId'])\n",
    "                #print jobs\n",
    "            \n",
    "        #get all completed jobs\n",
    "        url = \"http://localhost:4040/api/v1/applications/\"+ str(sc.applicationId) +\"/jobs?status=succeeded\"\n",
    "        \n",
    "        response = urllib.urlopen(url)\n",
    "        data = json.loads(response.read())\n",
    "        \n",
    "        for i in data:\n",
    "            #Store completion details of only jobs which was running\n",
    "            if i['jobId'] in jobs:\n",
    "                jobs[i['jobId']] = {\n",
    "                    'active_task': i[\"numActiveTasks\"],\n",
    "                    'completed_task': i[\"numCompletedTasks\"],\n",
    "                    'failed_task': i[\"numFailedTasks\"],\n",
    "                    'total_task': i[\"numTasks\"],\n",
    "                    'stages':[]\n",
    "                }\n",
    "                l.value = \"{} Tasks Completed\".format(str(jobs[i['jobId']]['completed_task']))\n",
    "                f.bar_style= 'success'\n",
    "                f.value = float(jobs[i['jobId']]['completed_task'])*100.0/float(jobs[i['jobId']]['total_task'])\n",
    "                \n",
    "                stage_task(i['jobId'])\n",
    "        \n",
    "\n",
    "                \n",
    "    return\n",
    "    "
   ]
  },
  {
   "cell_type": "code",
   "execution_count": 4,
   "metadata": {
    "collapsed": false,
    "deletable": true,
    "editable": true
   },
   "outputs": [],
   "source": [
    "def cal(l):\n",
    "    def call():\n",
    "        ss = sc.parallelize(l,4)\n",
    "        print \"Sum {}\".format(ss.reduce(lambda x,y: x+y))\n",
    "    #Using ipython module to run tasks in threads\n",
    "    jobs = backgroundjobs.BackgroundJobManager()\n",
    "    #Starting calculation task\n",
    "    jobs.new(call)\n",
    "    #Starting monitoring task\n",
    "    jobs.new(create_html)\n",
    "    return "
   ]
  },
  {
   "cell_type": "code",
   "execution_count": 33,
   "metadata": {
    "collapsed": false,
    "deletable": true,
    "editable": true
   },
   "outputs": [
    {
     "name": "stdout",
     "output_type": "stream",
     "text": [
      "Starting job # 0 in a separate thread.\n",
      "Starting job # 2 in a separate thread.\n"
     ]
    },
    {
     "data": {
      "application/vnd.jupyter.widget-view+json": {
       "model_id": "6116904a2b0f436aa12b36a994dc9e16"
      }
     },
     "metadata": {},
     "output_type": "display_data"
    },
    {
     "name": "stdout",
     "output_type": "stream",
     "text": [
      "Sum 199999990000000\n"
     ]
    }
   ],
   "source": [
    "cal(range(1,20000000))"
   ]
  },
  {
   "cell_type": "code",
   "execution_count": 5,
   "metadata": {
    "collapsed": true,
    "deletable": true,
    "editable": true
   },
   "outputs": [],
   "source": [
    "def sync_cal(l):\n",
    "    ss = sc.parallelize(l,4)\n",
    "    jobs = backgroundjobs.BackgroundJobManager()\n",
    "    jobs.new(create_html)\n",
    "    return ss.reduce(lambda x,y: x+y)"
   ]
  },
  {
   "cell_type": "code",
   "execution_count": 21,
   "metadata": {
    "collapsed": false,
    "deletable": true,
    "editable": true
   },
   "outputs": [
    {
     "name": "stdout",
     "output_type": "stream",
     "text": [
      "Starting job # 0 in a separate thread.\n"
     ]
    },
    {
     "data": {
      "application/vnd.jupyter.widget-view+json": {
       "model_id": "9448e57d84b048338aaa37b09b73f3bd"
      }
     },
     "metadata": {},
     "output_type": "display_data"
    },
    {
     "data": {
      "application/vnd.jupyter.widget-view+json": {
       "model_id": "1a559ffe59d74b7980cad3e96ab47592"
      }
     },
     "metadata": {},
     "output_type": "display_data"
    },
    {
     "data": {
      "text/plain": [
       "199999990000000"
      ]
     },
     "execution_count": 21,
     "metadata": {},
     "output_type": "execute_result"
    }
   ],
   "source": [
    "sync_cal(range(1,20000000))"
   ]
  }
 ],
 "metadata": {
  "kernelspec": {
   "display_name": "Python 2",
   "language": "python",
   "name": "python2"
  },
  "language_info": {
   "codemirror_mode": {
    "name": "ipython",
    "version": 2
   },
   "file_extension": ".py",
   "mimetype": "text/x-python",
   "name": "python",
   "nbconvert_exporter": "python",
   "pygments_lexer": "ipython2",
   "version": "2.7.12"
  }
 },
 "nbformat": 4,
 "nbformat_minor": 2
}
