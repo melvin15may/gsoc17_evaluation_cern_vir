{
 "cells": [
  {
   "cell_type": "markdown",
   "metadata": {
    "deletable": true,
    "editable": true
   },
   "source": [
    "![ROOT Logo](http://root.cern.ch/img/logos/ROOT_Logo/website-banner/website-banner-%28not%20root%20picture%29.jpg)\n",
    "![Spark Logo](http://spark-mooc.github.io/web-assets/images/ta_Spark-logo-small.png)\n",
    "# **DistROOT: Example Notebook**\n",
    "<hr style=\"border-top-width: 4px; border-top-color: #34609b;\">"
   ]
  },
  {
   "cell_type": "markdown",
   "metadata": {
    "deletable": true,
    "editable": true
   },
   "source": [
    "Import the necessary packages."
   ]
  },
  {
   "cell_type": "code",
   "execution_count": 1,
   "metadata": {
    "collapsed": false,
    "deletable": true,
    "editable": true
   },
   "outputs": [
    {
     "data": {
      "application/javascript": [
       "\n",
       "require(['notebook'],\n",
       "  function() {\n",
       "    IPython.CodeCell.config_defaults.highlight_modes['magic_text/x-c++src'] = {'reg':[/^%%cpp/]};\n",
       "    console.log(\"JupyROOT - %%cpp magic configured\");\n",
       "  }\n",
       ");\n"
      ]
     },
     "metadata": {},
     "output_type": "display_data"
    },
    {
     "name": "stdout",
     "output_type": "stream",
     "text": [
      "Welcome to JupyROOT 6.08/06\n"
     ]
    }
   ],
   "source": [
    "import ROOT\n",
    "from DistROOT import DistTree"
   ]
  },
  {
   "cell_type": "markdown",
   "metadata": {
    "deletable": true,
    "editable": true
   },
   "source": [
    "Define the mapper and reducer functions."
   ]
  },
  {
   "cell_type": "code",
   "execution_count": 2,
   "metadata": {
    "collapsed": false,
    "deletable": true,
    "editable": true
   },
   "outputs": [],
   "source": [
    "%%cpp -d\n",
    "\n",
    "TH2F* fillHist(TTreeReader& reader) {\n",
    "    auto px = TTreeReaderValue<float>(reader, \"px\");\n",
    "    auto py = TTreeReaderValue<float>(reader, \"py\");\n",
    "    \n",
    "    TH2F *h = new TH2F(\"hpxpy\", \"py vs px\", 40, -4, 4, 40, -4, 4);\n",
    "    while (reader.Next()) {\n",
    "        h->Fill(*px, *py);\n",
    "    }\n",
    "    \n",
    "    return h;\n",
    "}\n",
    "\n",
    "TH2F* mergeHist(TH2F *h1, TH2F *h2) {\n",
    "    h1->Add(h2);\n",
    "    return h1;\n",
    "}"
   ]
  },
  {
   "cell_type": "markdown",
   "metadata": {
    "deletable": true,
    "editable": true
   },
   "source": [
    "Build the DistTree and trigger the parallel processing."
   ]
  },
  {
   "cell_type": "code",
   "execution_count": 3,
   "metadata": {
    "collapsed": false,
    "deletable": true,
    "editable": true
   },
   "outputs": [
    {
     "name": "stderr",
     "output_type": "stream",
     "text": [
      "Using Spark's default log4j profile: org/apache/spark/log4j-defaults.properties\n",
      "Setting default log level to \"WARN\".\n",
      "To adjust logging level use sc.setLogLevel(newLevel). For SparkR, use setLogLevel(newLevel).\n",
      "17/03/28 12:39:17 WARN NativeCodeLoader: Unable to load native-hadoop library for your platform... using builtin-java classes where applicable\n",
      "17/03/28 12:39:17 WARN Utils: Your hostname, ubuntu-me resolves to a loopback address: 127.0.1.1; using 10.123.50.216 instead (on interface wlp5s0)\n",
      "17/03/28 12:39:17 WARN Utils: Set SPARK_LOCAL_IP if you need to bind to another address\n",
      "\r",
      "[Stage 0:>                                                          (0 + 0) / 2]\r",
      "[Stage 0:>                                                          (0 + 2) / 2]\r",
      "                                                                                \r"
     ]
    }
   ],
   "source": [
    "dTree = DistTree(filelist = [\"http://root.cern.ch/files/test_distroot_small.root\"],\n",
    "                 treename = \"test\",\n",
    "                 npartitions = 2)\n",
    "\n",
    "myHist = dTree.ProcessAndMerge(ROOT.fillHist, ROOT.mergeHist)"
   ]
  },
  {
   "cell_type": "markdown",
   "metadata": {
    "deletable": true,
    "editable": true
   },
   "source": [
    "Plot the resulting histogram."
   ]
  },
  {
   "cell_type": "code",
   "execution_count": 4,
   "metadata": {
    "collapsed": false,
    "deletable": true,
    "editable": true
   },
   "outputs": [
    {
     "data": {
      "image/png": "[encoded data removed]",
      "text/plain": [
       "<IPython.core.display.Image object>"
      ]
     },
     "metadata": {},
     "output_type": "display_data"
    }
   ],
   "source": [
    "c = ROOT.TCanvas(\"myCanvas\", \"Test Histogram\", 800, 600)\n",
    "myHist.Draw()\n",
    "c.Draw()"
   ]
  },
  {
   "cell_type": "code",
   "execution_count": null,
   "metadata": {
    "collapsed": true
   },
   "outputs": [],
   "source": []
  }
 ],
 "metadata": {
  "kernelspec": {
   "display_name": "Python 2",
   "language": "python",
   "name": "python2"
  },
  "language_info": {
   "codemirror_mode": {
    "name": "ipython",
    "version": 2
   },
   "file_extension": ".py",
   "mimetype": "text/x-python",
   "name": "python",
   "nbconvert_exporter": "python",
   "pygments_lexer": "ipython2",
   "version": "2.7.12"
  }
 },
 "nbformat": 4,
 "nbformat_minor": 1
}